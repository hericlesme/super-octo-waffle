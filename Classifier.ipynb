{
 "cells": [
  {
   "cell_type": "code",
   "execution_count": 1,
   "metadata": {},
   "outputs": [],
   "source": [
    "import os\n",
    "from processing import split_train_test"
   ]
  },
  {
   "cell_type": "code",
   "execution_count": 2,
   "metadata": {},
   "outputs": [
    {
     "name": "stdout",
     "output_type": "stream",
     "text": [
      "created path: images/train/airplane\n",
      "created path: images/test/airplane\n",
      "151623 images processed:\n",
      "+ 108663 selected to train\n",
      "+ 27160 selected to test\n",
      " + 15800 skipped\n",
      "created path: images/train/apple\n",
      "created path: images/test/apple\n",
      "144722 images processed:\n",
      "+ 111922 selected to train\n",
      "+ 27980 selected to test\n",
      " + 4820 skipped\n",
      "created path: images/train/umbrella\n",
      "created path: images/test/umbrella\n",
      "124084 images processed:\n",
      "+ 96414 selected to train\n",
      "+ 24100 selected to test\n",
      " + 3570 skipped\n"
     ]
    }
   ],
   "source": [
    "filepaths = ['data/airplane.ndjson', 'data/apple.ndjson', 'data/umbrella.ndjson']\n",
    "for filepath in filepaths:\n",
    "    split_train_test(filepath, 80, 20)"
   ]
  },
  {
   "cell_type": "code",
   "execution_count": 7,
   "metadata": {},
   "outputs": [
    {
     "name": "stdout",
     "output_type": "stream",
     "text": [
      "total airplane images: 108663\n",
      "total apple images: 111922\n",
      "total umbrella images: 96414\n"
     ]
    }
   ],
   "source": [
    "classnames = ['airplane', 'apple', 'umbrella']\n",
    "for classname in classnames:\n",
    "    classdir = './images/train/{}'.format(classname)\n",
    "    print('total {} images: {}'.format(classname, len(os.listdir(classdir))))"
   ]
  },
  {
   "cell_type": "code",
   "execution_count": 6,
   "metadata": {},
   "outputs": [],
   "source": [
    "from tensorflow.keras.preprocessing.image import ImageDataGenerator"
   ]
  },
  {
   "cell_type": "code",
   "execution_count": 9,
   "metadata": {},
   "outputs": [
    {
     "name": "stdout",
     "output_type": "stream",
     "text": [
      "Found 316999 images belonging to 3 classes.\n"
     ]
    }
   ],
   "source": [
    "batch_size = 32\n",
    "\n",
    "train_datagen = ImageDataGenerator()\n",
    "train_flow = train_datagen.flow_from_directory(\n",
    "    './images/train', # source category directory\n",
    "    batch_size = batch_size,\n",
    "    classes = classnames,\n",
    "    class_mode = 'categorical')"
   ]
  },
  {
   "cell_type": "code",
   "execution_count": 16,
   "metadata": {},
   "outputs": [],
   "source": [
    "import tensorflow as tf\n",
    "from tensorflow.keras.layers import Input, Conv2D, MaxPooling2D, Flatten, Dense\n",
    "from tensorflow.keras.models import Model"
   ]
  },
  {
   "cell_type": "code",
   "execution_count": 26,
   "metadata": {},
   "outputs": [],
   "source": [
    "input_layer = Input(shape=(256, 256, 3))\n",
    "\n",
    "convolution_layers = [\n",
    "    {\n",
    "        'output': 16,\n",
    "        'k_size': (3, 3),\n",
    "        'active': 'relu',\n",
    "        'pool_size': 2,\n",
    "        'stride': 2,\n",
    "    },\n",
    "    {\n",
    "        'output': 32,\n",
    "        'k_size': (3, 3),\n",
    "        'active': 'relu',\n",
    "        'pool_size': 2,\n",
    "        'stride': 2,\n",
    "    },\n",
    "    {\n",
    "        'output': 64,\n",
    "        'k_size': (3, 3),\n",
    "        'active': 'relu',\n",
    "        'pool_size': 2,\n",
    "        'stride': 2,\n",
    "    },\n",
    "    {\n",
    "        'output': 64,\n",
    "        'k_size': (3, 3),\n",
    "        'active': 'relu',\n",
    "        'pool_size': 2,\n",
    "        'stride': 2,\n",
    "    },\n",
    "    {\n",
    "        'output': 64,\n",
    "        'k_size': (3, 3),\n",
    "        'active': 'relu',\n",
    "        'pool_size': 2,\n",
    "        'stride': 2,\n",
    "    },\n",
    "]\n",
    "\n",
    "current_layer = input_layer\n",
    "\n",
    "for layer in convolution_layers:\n",
    "    current_layer = Conv2D(layer['output'], layer['k_size'], activation=layer['active'])(current_layer)\n",
    "    current_layer = MaxPooling2D(layer['pool_size'], layer['stride'])(current_layer)\n",
    "\n",
    "current_layer = Flatten()(current_layer)\n",
    "current_layer = Dense(128, activation='relu')(current_layer)\n",
    "\n",
    "output_layer = Dense(len(classnames), activation='softmax')(current_layer)\n",
    "model = Model(inputs=input_layer, outputs=output_layer)\n"
   ]
  },
  {
   "cell_type": "code",
   "execution_count": 27,
   "metadata": {},
   "outputs": [
    {
     "name": "stdout",
     "output_type": "stream",
     "text": [
      "Model: \"model_2\"\n",
      "_________________________________________________________________\n",
      "Layer (type)                 Output Shape              Param #   \n",
      "=================================================================\n",
      "input_5 (InputLayer)         [(None, 256, 256, 3)]     0         \n",
      "_________________________________________________________________\n",
      "conv2d_12 (Conv2D)           (None, 254, 254, 16)      448       \n",
      "_________________________________________________________________\n",
      "max_pooling2d_10 (MaxPooling (None, 127, 127, 16)      0         \n",
      "_________________________________________________________________\n",
      "conv2d_13 (Conv2D)           (None, 125, 125, 32)      4640      \n",
      "_________________________________________________________________\n",
      "max_pooling2d_11 (MaxPooling (None, 62, 62, 32)        0         \n",
      "_________________________________________________________________\n",
      "conv2d_14 (Conv2D)           (None, 60, 60, 64)        18496     \n",
      "_________________________________________________________________\n",
      "max_pooling2d_12 (MaxPooling (None, 30, 30, 64)        0         \n",
      "_________________________________________________________________\n",
      "conv2d_15 (Conv2D)           (None, 28, 28, 64)        36928     \n",
      "_________________________________________________________________\n",
      "max_pooling2d_13 (MaxPooling (None, 14, 14, 64)        0         \n",
      "_________________________________________________________________\n",
      "conv2d_16 (Conv2D)           (None, 12, 12, 64)        36928     \n",
      "_________________________________________________________________\n",
      "max_pooling2d_14 (MaxPooling (None, 6, 6, 64)          0         \n",
      "_________________________________________________________________\n",
      "flatten_2 (Flatten)          (None, 2304)              0         \n",
      "_________________________________________________________________\n",
      "dense_4 (Dense)              (None, 128)               295040    \n",
      "_________________________________________________________________\n",
      "dense_5 (Dense)              (None, 3)                 387       \n",
      "=================================================================\n",
      "Total params: 392,867\n",
      "Trainable params: 392,867\n",
      "Non-trainable params: 0\n",
      "_________________________________________________________________\n"
     ]
    }
   ],
   "source": [
    "model.summary()"
   ]
  },
  {
   "cell_type": "code",
   "execution_count": 28,
   "metadata": {},
   "outputs": [],
   "source": [
    "from tensorflow.keras.optimizers import RMSprop\n",
    "\n",
    "model.compile(loss='categorical_crossentropy',\n",
    "              optimizer=RMSprop(),\n",
    "              metrics=['acc'])"
   ]
  },
  {
   "cell_type": "code",
   "execution_count": null,
   "metadata": {},
   "outputs": [
    {
     "name": "stdout",
     "output_type": "stream",
     "text": [
      "Epoch 1/30\n"
     ]
    }
   ],
   "source": [
    "n_epochs = 30\n",
    "history = model.fit_generator(\n",
    "    train_flow,\n",
    "    steps_per_epoch=total_sample // batch_size,\n",
    "    epochs=n_epochs,\n",
    "    verbose=1,\n",
    ")"
   ]
  }
 ],
 "metadata": {
  "kernelspec": {
   "display_name": "Python 3",
   "language": "python",
   "name": "python3"
  },
  "language_info": {
   "codemirror_mode": {
    "name": "ipython",
    "version": 3
   },
   "file_extension": ".py",
   "mimetype": "text/x-python",
   "name": "python",
   "nbconvert_exporter": "python",
   "pygments_lexer": "ipython3",
   "version": "3.6.8"
  }
 },
 "nbformat": 4,
 "nbformat_minor": 2
}
