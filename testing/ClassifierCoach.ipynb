{
 "cells": [
  {
   "cell_type": "code",
   "execution_count": 1,
   "metadata": {},
   "outputs": [],
   "source": [
    "import os\n",
    "from processing import split_train_test\n",
    "import tensorflow as tf"
   ]
  },
  {
   "cell_type": "code",
   "execution_count": 2,
   "metadata": {},
   "outputs": [
    {
     "data": {
      "text/plain": [
       "'\\nfor filepath in filepaths:\\n    split_train_test(filepath, 80, 20)\\n'"
      ]
     },
     "execution_count": 2,
     "metadata": {},
     "output_type": "execute_result"
    }
   ],
   "source": [
    "filepaths = ['data/airplane.ndjson', 'data/apple.ndjson', 'data/umbrella.ndjson']\n",
    "'''\n",
    "for filepath in filepaths:\n",
    "    split_train_test(filepath, 80, 20)\n",
    "'''"
   ]
  },
  {
   "cell_type": "code",
   "execution_count": 3,
   "metadata": {},
   "outputs": [
    {
     "name": "stdout",
     "output_type": "stream",
     "text": [
      "total airplane images: 108663\n",
      "total apple images: 111922\n",
      "total umbrella images: 96414\n"
     ]
    }
   ],
   "source": [
    "classnames = ['airplane', 'apple', 'umbrella']\n",
    "\n",
    "for classname in classnames:\n",
    "    classdir = './images/train/{}'.format(classname)\n",
    "    print('total {} images: {}'.format(classname, len(os.listdir(classdir))))"
   ]
  },
  {
   "cell_type": "code",
   "execution_count": 4,
   "metadata": {},
   "outputs": [],
   "source": [
    "from tensorflow.keras.preprocessing.image import ImageDataGenerator"
   ]
  },
  {
   "cell_type": "code",
   "execution_count": 5,
   "metadata": {},
   "outputs": [
    {
     "name": "stdout",
     "output_type": "stream",
     "text": [
      "Found 316999 images belonging to 3 classes.\n"
     ]
    }
   ],
   "source": [
    "batch_size = 64\n",
    "\n",
    "train_datagen = ImageDataGenerator()\n",
    "train_flow = train_datagen.flow_from_directory(\n",
    "    './images/train', # source category directory\n",
    "    batch_size = batch_size,\n",
    "    classes = classnames,\n",
    "    class_mode = 'categorical')"
   ]
  },
  {
   "cell_type": "code",
   "execution_count": 6,
   "metadata": {},
   "outputs": [
    {
     "name": "stderr",
     "output_type": "stream",
     "text": [
      "Using TensorFlow backend.\n"
     ]
    }
   ],
   "source": [
    "from tensorflow.keras.layers import Input, Conv2D, MaxPooling2D, Flatten, Dense\n",
    "from tensorflow.keras.models import Model\n",
    "from keras.callbacks import ModelCheckpoint"
   ]
  },
  {
   "cell_type": "code",
   "execution_count": 7,
   "metadata": {},
   "outputs": [],
   "source": [
    "input_layer = Input(shape=(256, 256, 3))\n",
    "\n",
    "convolution_layers = [\n",
    "    {\n",
    "        'output': 16,\n",
    "        'k_size': (3, 3),\n",
    "        'active': 'relu',\n",
    "        'pool_size': 2,\n",
    "        'stride': 2,\n",
    "    },\n",
    "    {\n",
    "        'output': 32,\n",
    "        'k_size': (3, 3),\n",
    "        'active': 'relu',\n",
    "        'pool_size': 2,\n",
    "        'stride': 2,\n",
    "    },\n",
    "    {\n",
    "        'output': 64,\n",
    "        'k_size': (3, 3),\n",
    "        'active': 'relu',\n",
    "        'pool_size': 2,\n",
    "        'stride': 2,\n",
    "    },\n",
    "    {\n",
    "        'output': 64,\n",
    "        'k_size': (3, 3),\n",
    "        'active': 'relu',\n",
    "        'pool_size': 2,\n",
    "        'stride': 2,\n",
    "    },\n",
    "    {\n",
    "        'output': 64,\n",
    "        'k_size': (3, 3),\n",
    "        'active': 'relu',\n",
    "        'pool_size': 2,\n",
    "        'stride': 2,\n",
    "    },\n",
    "]\n",
    "\n",
    "current_layer = input_layer\n",
    "\n",
    "for layer in convolution_layers:\n",
    "    current_layer = Conv2D(layer['output'], layer['k_size'], activation=layer['active'])(current_layer)\n",
    "    current_layer = MaxPooling2D(layer['pool_size'], layer['stride'])(current_layer)\n",
    "\n",
    "current_layer = Flatten()(current_layer)\n",
    "current_layer = Dense(128, activation='relu')(current_layer)\n",
    "output_layer = Dense(len(classnames), activation='softmax')(current_layer)\n",
    "\n",
    "model = Model(inputs=input_layer, outputs=output_layer)\n"
   ]
  },
  {
   "cell_type": "code",
   "execution_count": 8,
   "metadata": {},
   "outputs": [
    {
     "name": "stdout",
     "output_type": "stream",
     "text": [
      "Model: \"model\"\n",
      "_________________________________________________________________\n",
      "Layer (type)                 Output Shape              Param #   \n",
      "=================================================================\n",
      "input_1 (InputLayer)         [(None, 256, 256, 3)]     0         \n",
      "_________________________________________________________________\n",
      "conv2d (Conv2D)              (None, 254, 254, 16)      448       \n",
      "_________________________________________________________________\n",
      "max_pooling2d (MaxPooling2D) (None, 127, 127, 16)      0         \n",
      "_________________________________________________________________\n",
      "conv2d_1 (Conv2D)            (None, 125, 125, 32)      4640      \n",
      "_________________________________________________________________\n",
      "max_pooling2d_1 (MaxPooling2 (None, 62, 62, 32)        0         \n",
      "_________________________________________________________________\n",
      "conv2d_2 (Conv2D)            (None, 60, 60, 64)        18496     \n",
      "_________________________________________________________________\n",
      "max_pooling2d_2 (MaxPooling2 (None, 30, 30, 64)        0         \n",
      "_________________________________________________________________\n",
      "conv2d_3 (Conv2D)            (None, 28, 28, 64)        36928     \n",
      "_________________________________________________________________\n",
      "max_pooling2d_3 (MaxPooling2 (None, 14, 14, 64)        0         \n",
      "_________________________________________________________________\n",
      "conv2d_4 (Conv2D)            (None, 12, 12, 64)        36928     \n",
      "_________________________________________________________________\n",
      "max_pooling2d_4 (MaxPooling2 (None, 6, 6, 64)          0         \n",
      "_________________________________________________________________\n",
      "flatten (Flatten)            (None, 2304)              0         \n",
      "_________________________________________________________________\n",
      "dense (Dense)                (None, 128)               295040    \n",
      "_________________________________________________________________\n",
      "dense_1 (Dense)              (None, 3)                 387       \n",
      "=================================================================\n",
      "Total params: 392,867\n",
      "Trainable params: 392,867\n",
      "Non-trainable params: 0\n",
      "_________________________________________________________________\n"
     ]
    }
   ],
   "source": [
    "model.summary()"
   ]
  },
  {
   "cell_type": "code",
   "execution_count": 9,
   "metadata": {},
   "outputs": [],
   "source": [
    "from tensorflow.keras.optimizers import RMSprop\n",
    "\n",
    "model.compile(loss='categorical_crossentropy',\n",
    "              optimizer=RMSprop(),\n",
    "              metrics=['accuracy'])"
   ]
  },
  {
   "cell_type": "code",
   "execution_count": null,
   "metadata": {},
   "outputs": [
    {
     "name": "stdout",
     "output_type": "stream",
     "text": [
      "Found 79240 images belonging to 3 classes.\n",
      "Epoch 1/30\n",
      "2726/4953 [===============>..............] - ETA: 1:30:27 - loss: 11.2356 - accuracy: 0.3029"
     ]
    }
   ],
   "source": [
    "test_datagen = ImageDataGenerator()\n",
    "test_flow = test_datagen.flow_from_directory(\n",
    "    './images/test', # source category directory\n",
    "    batch_size = batch_size,\n",
    "    classes = classnames,\n",
    "    class_mode = 'categorical')\n",
    "\n",
    "n_epochs = 30\n",
    "n_samples = train_flow.n\n",
    "filepath = filepath=\"models/drawing-classifier-{epoch:02d}.hdf5\"\n",
    "checkpoint = ModelCheckpoint(filepath, verbose=1)\n",
    "\n",
    "history = model.fit_generator(\n",
    "    train_flow,\n",
    "    steps_per_epoch=n_samples // batch_size,\n",
    "    epochs=n_epochs,\n",
    "    verbose=1,\n",
    "    use_multiprocessing=True,\n",
    "    validation_data=test_flow,\n",
    "    callbacks=[checkpoint],\n",
    ")"
   ]
  },
  {
   "cell_type": "code",
   "execution_count": null,
   "metadata": {},
   "outputs": [],
   "source": []
  }
 ],
 "metadata": {
  "kernelspec": {
   "display_name": "Python 3",
   "language": "python",
   "name": "python3"
  }
 },
 "nbformat": 4,
 "nbformat_minor": 2
}
